{
 "cells": [
  {
   "cell_type": "code",
   "execution_count": 1,
   "id": "3db21837",
   "metadata": {},
   "outputs": [],
   "source": [
    "%load_ext autoreload\n",
    "%autoreload 2\n",
    "%aimport tensorvision"
   ]
  },
  {
   "cell_type": "code",
   "execution_count": 2,
   "id": "ddd59ee2",
   "metadata": {},
   "outputs": [
    {
     "name": "stderr",
     "output_type": "stream",
     "text": [
      "Seed set to 42\n",
      "GPU available: False, used: False\n",
      "TPU available: False, using: 0 TPU cores\n",
      "HPU available: False, using: 0 HPUs\n",
      "/Users/henrichevreux/Documents/TensorVision/.venv/lib/python3.9/site-packages/pytorch_lightning/callbacks/model_checkpoint.py:654: Checkpoint directory /Users/henrichevreux/Documents/TensorVision/checkpoints exists and is not empty.\n",
      "/Users/henrichevreux/Documents/TensorVision/.venv/lib/python3.9/site-packages/torch/optim/lr_scheduler.py:28: UserWarning: The verbose parameter is deprecated. Please use get_last_lr() to access the learning rate.\n",
      "  warnings.warn(\"The verbose parameter is deprecated. Please use get_last_lr() \"\n",
      "\n",
      "  | Name              | Type                      | Params | Mode  | In sizes       | Out sizes     \n",
      "----------------------------------------------------------------------------------------------------------\n",
      "0 | features          | Sequential                | 93.1 K | train | [1, 1, 28, 28] | [1, 128, 3, 3]\n",
      "1 | classifier        | Sequential                | 298 K  | train | [1, 128, 3, 3] | [1, 10]       \n",
      "2 | train_acc         | MulticlassAccuracy        | 0      | train | ?              | ?             \n",
      "3 | val_acc           | MulticlassAccuracy        | 0      | train | ?              | ?             \n",
      "4 | test_acc          | MulticlassAccuracy        | 0      | train | ?              | ?             \n",
      "5 | val_precision     | MulticlassPrecision       | 0      | train | ?              | ?             \n",
      "6 | val_recall        | MulticlassRecall          | 0      | train | ?              | ?             \n",
      "7 | val_f1            | MulticlassF1Score         | 0      | train | ?              | ?             \n",
      "8 | val_confmat       | MulticlassConfusionMatrix | 0      | train | ?              | ?             \n",
      "9 | val_per_class_acc | MulticlassAccuracy        | 0      | train | ?              | ?             \n",
      "----------------------------------------------------------------------------------------------------------\n",
      "391 K     Trainable params\n",
      "0         Non-trainable params\n",
      "391 K     Total params\n",
      "1.565     Total estimated model params size (MB)\n",
      "31        Modules in train mode\n",
      "0         Modules in eval mode\n"
     ]
    },
    {
     "name": "stdout",
     "output_type": "stream",
     "text": [
      "Sanity Checking: |          | 0/? [00:00<?, ?it/s]"
     ]
    },
    {
     "name": "stderr",
     "output_type": "stream",
     "text": [
      "/Users/henrichevreux/Documents/TensorVision/.venv/lib/python3.9/site-packages/pytorch_lightning/trainer/connectors/data_connector.py:420: Consider setting `persistent_workers=True` in 'val_dataloader' to speed up the dataloader worker initialization.\n"
     ]
    },
    {
     "name": "stdout",
     "output_type": "stream",
     "text": [
      "                                                                           \r"
     ]
    },
    {
     "name": "stderr",
     "output_type": "stream",
     "text": [
      "/Users/henrichevreux/Documents/TensorVision/.venv/lib/python3.9/site-packages/pytorch_lightning/trainer/connectors/data_connector.py:420: Consider setting `persistent_workers=True` in 'train_dataloader' to speed up the dataloader worker initialization.\n"
     ]
    },
    {
     "name": "stdout",
     "output_type": "stream",
     "text": [
      "Epoch 0: 100%|██████████| 375/375 [01:09<00:00,  5.42it/s, v_num=0]"
     ]
    },
    {
     "name": "stderr",
     "output_type": "stream",
     "text": [
      "/Users/henrichevreux/Documents/TensorVision/.venv/lib/python3.9/site-packages/threadpoolctl.py:1226: RuntimeWarning: \n",
      "Found Intel OpenMP ('libiomp') and LLVM OpenMP ('libomp') loaded at\n",
      "the same time. Both libraries are known to be incompatible and this\n",
      "can cause random crashes or deadlocks on Linux when loaded in the\n",
      "same Python program.\n",
      "Using threadpoolctl may cause crashes or deadlocks. For more\n",
      "information and possible workarounds, please see\n",
      "    https://github.com/joblib/threadpoolctl/blob/master/multiple_openmp.md\n",
      "\n",
      "  warnings.warn(msg, RuntimeWarning)\n"
     ]
    },
    {
     "name": "stdout",
     "output_type": "stream",
     "text": [
      "Epoch 0: 100%|██████████| 375/375 [01:25<00:00,  4.39it/s, v_num=0, val/loss=0.599, val/acc=0.792, train/loss=0.704, train/acc=0.740]"
     ]
    },
    {
     "name": "stderr",
     "output_type": "stream",
     "text": [
      "Metric val/loss improved. New best score: 0.599\n",
      "`Trainer.fit` stopped: `max_epochs=1` reached.\n"
     ]
    },
    {
     "name": "stdout",
     "output_type": "stream",
     "text": [
      "Epoch 0: 100%|██████████| 375/375 [01:25<00:00,  4.39it/s, v_num=0, val/loss=0.599, val/acc=0.792, train/loss=0.704, train/acc=0.740]\n"
     ]
    },
    {
     "name": "stderr",
     "output_type": "stream",
     "text": [
      "/Users/henrichevreux/Documents/TensorVision/.venv/lib/python3.9/site-packages/pytorch_lightning/trainer/connectors/data_connector.py:420: Consider setting `persistent_workers=True` in 'test_dataloader' to speed up the dataloader worker initialization.\n"
     ]
    },
    {
     "name": "stdout",
     "output_type": "stream",
     "text": [
      "Testing DataLoader 0: 100%|██████████| 79/79 [00:03<00:00, 22.02it/s]\n",
      "────────────────────────────────────────────────────────────────────────────────────────────────────────────────────────\n",
      "       Test metric             DataLoader 0\n",
      "────────────────────────────────────────────────────────────────────────────────────────────────────────────────────────\n",
      "        test/acc            0.8032000064849854\n",
      "        test/loss            0.560874342918396\n",
      "────────────────────────────────────────────────────────────────────────────────────────────────────────────────────────\n",
      "\n",
      "==== Training Completed ====\n",
      "Best model checkpoint: /Users/henrichevreux/Documents/TensorVision/checkpoints/fashion_mnist-epoch=00-val/acc=0.7924.ckpt\n",
      "Best validation accuracy: 0.7924\n",
      "Test results: [{'test/loss': 0.560874342918396, 'test/acc': 0.8032000064849854}]\n",
      "\n",
      "To view detailed metrics and visualizations, visit your Tensorboard dashboard.\n"
     ]
    }
   ],
   "source": [
    "#!/usr/bin/env python\n",
    "\"\"\"\n",
    "Run TensorVision FashionMNIST CNN training from the command line.\n",
    "\"\"\"\n",
    "import argparse\n",
    "from tensorvision import TensorVision\n",
    "\n",
    "    \n",
    "# Initialize TensorVision with the parsed arguments\n",
    "vision = TensorVision(\n",
    "    max_epochs=1,\n",
    ")\n",
    "\n",
    "# Train the model\n",
    "results = vision.train()\n",
    "\n",
    "# Print results\n",
    "print(\"\\n==== Training Completed ====\")\n",
    "print(f\"Best model checkpoint: {results['best_model_path']}\")\n",
    "print(f\"Best validation accuracy: {results['best_model_score']:.4f}\")\n",
    "print(f\"Test results: {results['test_results']}\")\n",
    "print(\"\\nTo view detailed metrics and visualizations, visit your Tensorboard dashboard.\") "
   ]
  }
 ],
 "metadata": {
  "kernelspec": {
   "display_name": ".venv",
   "language": "python",
   "name": "python3"
  },
  "language_info": {
   "codemirror_mode": {
    "name": "ipython",
    "version": 3
   },
   "file_extension": ".py",
   "mimetype": "text/x-python",
   "name": "python",
   "nbconvert_exporter": "python",
   "pygments_lexer": "ipython3",
   "version": "3.9.20"
  }
 },
 "nbformat": 4,
 "nbformat_minor": 5
}
